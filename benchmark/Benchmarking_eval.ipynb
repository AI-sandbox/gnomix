{
 "cells": [
  {
   "cell_type": "markdown",
   "metadata": {},
   "source": [
    "## Benchmarking"
   ]
  },
  {
   "cell_type": "code",
   "execution_count": 5,
   "metadata": {},
   "outputs": [
    {
     "name": "stdout",
     "output_type": "stream",
     "text": [
      "The autoreload extension is already loaded. To reload it, use:\n",
      "  %reload_ext autoreload\n"
     ]
    }
   ],
   "source": [
    "%load_ext autoreload\n",
    "%autoreload 2"
   ]
  },
  {
   "cell_type": "code",
   "execution_count": 6,
   "metadata": {
    "scrolled": false
   },
   "outputs": [],
   "source": [
    "from Benchmarking import *\n",
    "import sys"
   ]
  },
  {
   "cell_type": "code",
   "execution_count": 7,
   "metadata": {},
   "outputs": [],
   "source": [
    "chm = 20"
   ]
  },
  {
   "cell_type": "code",
   "execution_count": 8,
   "metadata": {},
   "outputs": [],
   "source": [
    "user = \"arvindsk\"\n",
    "# user = \"wknd37\"\n",
    "\n",
    "datasets_benchmark = \"/home/\" + user + \"/xgmix_expts/benchmark_data/val/chm{0}/{1}/{2}/generated_data/\"\n",
    "metrics_benchmark = \"/home/\" + user + \"/xgmix_expts/benchmark_data/val/chm{0}/{1}/{2}/generated_data/chm{0}/\"\n",
    "model_root = \"/home/\" + user + \"/xgmix_expts/benchmark_data/{1}/{2}/{3}/generated_data/chm{0}/all/models/{4}_{5}.pkl\"\n",
    "train_data_root = \"/home/\" + user + \"/xgmix_expts/benchmark_data/{0}/{1}/{2}/generated_data/\"\n",
    "\n",
    "train_gens = [0,2,4,8,16,24,32,48,64,72,100]\n",
    "val_gens = [2,4,8,12,16,20,30,40,50,60,70,80,90,100]"
   ]
  },
  {
   "cell_type": "code",
   "execution_count": 9,
   "metadata": {},
   "outputs": [],
   "source": [
    "verbose=True"
   ]
  },
  {
   "cell_type": "code",
   "execution_count": 11,
   "metadata": {
    "scrolled": true
   },
   "outputs": [],
   "source": [
    "for set_name in [\"full\",\"ukb\"]:\n",
    "    W = 30 if set_name == \"ukb\" else 1000\n",
    "\n",
    "    for pop_name in [\"latino\",\"five\",\"seven\"]:\n",
    "        \n",
    "        data_path = datasets_benchmark.format(chm,set_name,pop_name)\n",
    "        print(\"Val data from: \",data_path)\n",
    "        \n",
    "\n",
    "        for base in [\"lgb\", \"xgb\", \"logreg\"]:\n",
    "            for smooth in [\"xgb\", \"crf\", \"cnv\"]:\n",
    "                \n",
    "                for bal in [\"unbal_unbal\",\"bal_admix\"]:\n",
    "\n",
    "                    metric_path = os.path.join(metrics_benchmark.format(chm,set_name,pop_name),\"{}_{}_{}.benchmark\".format(base,smooth,bal))\n",
    "                    print(\"Metrics will show up at: \",metric_path)\n",
    "                    metrics = {}\n",
    "\n",
    "                    # load model\n",
    "                    model_path = model_root.format(chm,set_name,bal,pop_name,base,smooth)\n",
    "                    print(\"Loading model from: \",model_path)\n",
    "                    \n",
    "                    # load the original train and val data to get training time metrics\n",
    "                    print(\"Getting traintime data\")\n",
    "                    train_data_path = train_data_root.format(set_name,bal,pop_name)\n",
    "                    data, meta, _ = get_data(train_data_path, W=W, gens=train_gens, chm=chm, verbose=False)\n",
    "                    (X_t1, y_t1), (X_t2, y_t2), (X_v, y_v) = data\n",
    "                    \n",
    "                    print(\"Getting validation set that was separately generated\")\n",
    "                    print(\"Val generations: \",val_gens)\n",
    "                    val_paths = [data_path + \"/chm{}/simulation_output/val/gen_\".format(chm)    + str(gen) + \"/\" for gen in val_gens] \n",
    "                    X_val_files    = [p + \"mat_vcf_2d.npy\" for p in val_paths]\n",
    "                    labels_val_files    = [p + \"mat_map.npy\" for p in val_paths]\n",
    "                    train_val_files = [X_val_files, labels_val_files]\n",
    "                    X_val_raw, labels_val_raw = [load_np_data(f) for f in train_val_files]\n",
    "                    X_val, labels_window_val       = data_process(X_val_raw, labels_val_raw, W, 0)\n",
    "                    val = np.array(X_val).astype(\"int8\")\n",
    "                    val_lab = np.array(labels_window_val).astype(\"int16\")\n",
    "                    \n",
    "                    # glue the old train data with the new val data\n",
    "                    data = ((X_t1,y_t1),(X_t2,y_t2),(val,val_lab))\n",
    "                    y_snp = labels_val_raw.copy()\n",
    "                    \n",
    "                    # here pass on the val_gens since we only pass val set into the accuracy computing functions\n",
    "                    metrics = bm_eval(model_path, data, gens=val_gens, eval_calibration=True, y_snp=y_snp, verbose=verbose)\n",
    "\n",
    "                    save_dict(metrics,metric_path)"
   ]
  },
  {
   "cell_type": "code",
   "execution_count": 13,
   "metadata": {},
   "outputs": [
    {
     "name": "stdout",
     "output_type": "stream",
     "text": [
      "/home/arvindsk/xgmix_expts/benchmark_data/val/chm20/full/latino/generated_data/chm20/lgb_xgb_unbal_unbal.benchmark\n",
      "/home/arvindsk/xgmix_expts/benchmark_data/val/chm20/full/latino/generated_data/chm20/lgb_xgb_bal_admix.benchmark\n",
      "/home/arvindsk/xgmix_expts/benchmark_data/val/chm20/full/latino/generated_data/chm20/lgb_crf_unbal_unbal.benchmark\n",
      "/home/arvindsk/xgmix_expts/benchmark_data/val/chm20/full/latino/generated_data/chm20/lgb_crf_bal_admix.benchmark\n",
      "/home/arvindsk/xgmix_expts/benchmark_data/val/chm20/full/latino/generated_data/chm20/lgb_cnv_unbal_unbal.benchmark\n",
      "/home/arvindsk/xgmix_expts/benchmark_data/val/chm20/full/latino/generated_data/chm20/lgb_cnv_bal_admix.benchmark\n",
      "/home/arvindsk/xgmix_expts/benchmark_data/val/chm20/full/latino/generated_data/chm20/xgb_xgb_unbal_unbal.benchmark\n",
      "/home/arvindsk/xgmix_expts/benchmark_data/val/chm20/full/latino/generated_data/chm20/xgb_xgb_bal_admix.benchmark\n",
      "/home/arvindsk/xgmix_expts/benchmark_data/val/chm20/full/latino/generated_data/chm20/xgb_crf_unbal_unbal.benchmark\n",
      "/home/arvindsk/xgmix_expts/benchmark_data/val/chm20/full/latino/generated_data/chm20/xgb_crf_bal_admix.benchmark\n",
      "/home/arvindsk/xgmix_expts/benchmark_data/val/chm20/full/latino/generated_data/chm20/xgb_cnv_unbal_unbal.benchmark\n",
      "/home/arvindsk/xgmix_expts/benchmark_data/val/chm20/full/latino/generated_data/chm20/xgb_cnv_bal_admix.benchmark\n",
      "/home/arvindsk/xgmix_expts/benchmark_data/val/chm20/full/latino/generated_data/chm20/logreg_xgb_unbal_unbal.benchmark\n",
      "/home/arvindsk/xgmix_expts/benchmark_data/val/chm20/full/latino/generated_data/chm20/logreg_xgb_bal_admix.benchmark\n",
      "/home/arvindsk/xgmix_expts/benchmark_data/val/chm20/full/latino/generated_data/chm20/logreg_crf_unbal_unbal.benchmark\n",
      "/home/arvindsk/xgmix_expts/benchmark_data/val/chm20/full/latino/generated_data/chm20/logreg_crf_bal_admix.benchmark\n",
      "/home/arvindsk/xgmix_expts/benchmark_data/val/chm20/full/latino/generated_data/chm20/logreg_cnv_unbal_unbal.benchmark\n",
      "/home/arvindsk/xgmix_expts/benchmark_data/val/chm20/full/latino/generated_data/chm20/logreg_cnv_bal_admix.benchmark\n",
      "/home/arvindsk/xgmix_expts/benchmark_data/val/chm20/full/five/generated_data/chm20/lgb_xgb_unbal_unbal.benchmark\n",
      "/home/arvindsk/xgmix_expts/benchmark_data/val/chm20/full/five/generated_data/chm20/lgb_xgb_bal_admix.benchmark\n",
      "/home/arvindsk/xgmix_expts/benchmark_data/val/chm20/full/five/generated_data/chm20/lgb_crf_unbal_unbal.benchmark\n",
      "/home/arvindsk/xgmix_expts/benchmark_data/val/chm20/full/five/generated_data/chm20/lgb_crf_bal_admix.benchmark\n",
      "/home/arvindsk/xgmix_expts/benchmark_data/val/chm20/full/five/generated_data/chm20/lgb_cnv_unbal_unbal.benchmark\n",
      "/home/arvindsk/xgmix_expts/benchmark_data/val/chm20/full/five/generated_data/chm20/lgb_cnv_bal_admix.benchmark\n",
      "/home/arvindsk/xgmix_expts/benchmark_data/val/chm20/full/five/generated_data/chm20/xgb_xgb_unbal_unbal.benchmark\n",
      "/home/arvindsk/xgmix_expts/benchmark_data/val/chm20/full/five/generated_data/chm20/xgb_xgb_bal_admix.benchmark\n",
      "/home/arvindsk/xgmix_expts/benchmark_data/val/chm20/full/five/generated_data/chm20/xgb_crf_unbal_unbal.benchmark\n",
      "/home/arvindsk/xgmix_expts/benchmark_data/val/chm20/full/five/generated_data/chm20/xgb_crf_bal_admix.benchmark\n",
      "/home/arvindsk/xgmix_expts/benchmark_data/val/chm20/full/five/generated_data/chm20/xgb_cnv_unbal_unbal.benchmark\n",
      "/home/arvindsk/xgmix_expts/benchmark_data/val/chm20/full/five/generated_data/chm20/xgb_cnv_bal_admix.benchmark\n",
      "/home/arvindsk/xgmix_expts/benchmark_data/val/chm20/full/five/generated_data/chm20/logreg_xgb_unbal_unbal.benchmark\n",
      "/home/arvindsk/xgmix_expts/benchmark_data/val/chm20/full/five/generated_data/chm20/logreg_xgb_bal_admix.benchmark\n",
      "/home/arvindsk/xgmix_expts/benchmark_data/val/chm20/full/five/generated_data/chm20/logreg_crf_unbal_unbal.benchmark\n",
      "/home/arvindsk/xgmix_expts/benchmark_data/val/chm20/full/five/generated_data/chm20/logreg_crf_bal_admix.benchmark\n",
      "/home/arvindsk/xgmix_expts/benchmark_data/val/chm20/full/five/generated_data/chm20/logreg_cnv_unbal_unbal.benchmark\n",
      "/home/arvindsk/xgmix_expts/benchmark_data/val/chm20/full/five/generated_data/chm20/logreg_cnv_bal_admix.benchmark\n",
      "/home/arvindsk/xgmix_expts/benchmark_data/val/chm20/full/seven/generated_data/chm20/lgb_xgb_unbal_unbal.benchmark\n",
      "/home/arvindsk/xgmix_expts/benchmark_data/val/chm20/full/seven/generated_data/chm20/lgb_xgb_bal_admix.benchmark\n",
      "/home/arvindsk/xgmix_expts/benchmark_data/val/chm20/full/seven/generated_data/chm20/lgb_crf_unbal_unbal.benchmark\n",
      "/home/arvindsk/xgmix_expts/benchmark_data/val/chm20/full/seven/generated_data/chm20/lgb_crf_bal_admix.benchmark\n",
      "/home/arvindsk/xgmix_expts/benchmark_data/val/chm20/full/seven/generated_data/chm20/lgb_cnv_unbal_unbal.benchmark\n",
      "/home/arvindsk/xgmix_expts/benchmark_data/val/chm20/full/seven/generated_data/chm20/lgb_cnv_bal_admix.benchmark\n",
      "/home/arvindsk/xgmix_expts/benchmark_data/val/chm20/full/seven/generated_data/chm20/xgb_xgb_unbal_unbal.benchmark\n",
      "/home/arvindsk/xgmix_expts/benchmark_data/val/chm20/full/seven/generated_data/chm20/xgb_xgb_bal_admix.benchmark\n",
      "/home/arvindsk/xgmix_expts/benchmark_data/val/chm20/full/seven/generated_data/chm20/xgb_crf_unbal_unbal.benchmark\n",
      "/home/arvindsk/xgmix_expts/benchmark_data/val/chm20/full/seven/generated_data/chm20/xgb_crf_bal_admix.benchmark\n",
      "/home/arvindsk/xgmix_expts/benchmark_data/val/chm20/full/seven/generated_data/chm20/xgb_cnv_unbal_unbal.benchmark\n",
      "/home/arvindsk/xgmix_expts/benchmark_data/val/chm20/full/seven/generated_data/chm20/xgb_cnv_bal_admix.benchmark\n",
      "/home/arvindsk/xgmix_expts/benchmark_data/val/chm20/full/seven/generated_data/chm20/logreg_xgb_unbal_unbal.benchmark\n",
      "/home/arvindsk/xgmix_expts/benchmark_data/val/chm20/full/seven/generated_data/chm20/logreg_xgb_bal_admix.benchmark\n",
      "/home/arvindsk/xgmix_expts/benchmark_data/val/chm20/full/seven/generated_data/chm20/logreg_crf_unbal_unbal.benchmark\n",
      "/home/arvindsk/xgmix_expts/benchmark_data/val/chm20/full/seven/generated_data/chm20/logreg_crf_bal_admix.benchmark\n",
      "/home/arvindsk/xgmix_expts/benchmark_data/val/chm20/full/seven/generated_data/chm20/logreg_cnv_unbal_unbal.benchmark\n",
      "/home/arvindsk/xgmix_expts/benchmark_data/val/chm20/full/seven/generated_data/chm20/logreg_cnv_bal_admix.benchmark\n",
      "/home/arvindsk/xgmix_expts/benchmark_data/val/chm20/ukb/latino/generated_data/chm20/lgb_xgb_unbal_unbal.benchmark\n",
      "/home/arvindsk/xgmix_expts/benchmark_data/val/chm20/ukb/latino/generated_data/chm20/lgb_xgb_bal_admix.benchmark\n",
      "/home/arvindsk/xgmix_expts/benchmark_data/val/chm20/ukb/latino/generated_data/chm20/lgb_crf_unbal_unbal.benchmark\n",
      "/home/arvindsk/xgmix_expts/benchmark_data/val/chm20/ukb/latino/generated_data/chm20/lgb_crf_bal_admix.benchmark\n",
      "/home/arvindsk/xgmix_expts/benchmark_data/val/chm20/ukb/latino/generated_data/chm20/lgb_cnv_unbal_unbal.benchmark\n",
      "/home/arvindsk/xgmix_expts/benchmark_data/val/chm20/ukb/latino/generated_data/chm20/lgb_cnv_bal_admix.benchmark\n",
      "/home/arvindsk/xgmix_expts/benchmark_data/val/chm20/ukb/latino/generated_data/chm20/xgb_xgb_unbal_unbal.benchmark\n",
      "/home/arvindsk/xgmix_expts/benchmark_data/val/chm20/ukb/latino/generated_data/chm20/xgb_xgb_bal_admix.benchmark\n",
      "/home/arvindsk/xgmix_expts/benchmark_data/val/chm20/ukb/latino/generated_data/chm20/xgb_crf_unbal_unbal.benchmark\n",
      "/home/arvindsk/xgmix_expts/benchmark_data/val/chm20/ukb/latino/generated_data/chm20/xgb_crf_bal_admix.benchmark\n",
      "/home/arvindsk/xgmix_expts/benchmark_data/val/chm20/ukb/latino/generated_data/chm20/xgb_cnv_unbal_unbal.benchmark\n",
      "/home/arvindsk/xgmix_expts/benchmark_data/val/chm20/ukb/latino/generated_data/chm20/xgb_cnv_bal_admix.benchmark\n",
      "/home/arvindsk/xgmix_expts/benchmark_data/val/chm20/ukb/latino/generated_data/chm20/logreg_xgb_unbal_unbal.benchmark\n",
      "/home/arvindsk/xgmix_expts/benchmark_data/val/chm20/ukb/latino/generated_data/chm20/logreg_xgb_bal_admix.benchmark\n",
      "/home/arvindsk/xgmix_expts/benchmark_data/val/chm20/ukb/latino/generated_data/chm20/logreg_crf_unbal_unbal.benchmark\n",
      "/home/arvindsk/xgmix_expts/benchmark_data/val/chm20/ukb/latino/generated_data/chm20/logreg_crf_bal_admix.benchmark\n",
      "/home/arvindsk/xgmix_expts/benchmark_data/val/chm20/ukb/latino/generated_data/chm20/logreg_cnv_unbal_unbal.benchmark\n",
      "/home/arvindsk/xgmix_expts/benchmark_data/val/chm20/ukb/latino/generated_data/chm20/logreg_cnv_bal_admix.benchmark\n",
      "/home/arvindsk/xgmix_expts/benchmark_data/val/chm20/ukb/five/generated_data/chm20/lgb_xgb_unbal_unbal.benchmark\n",
      "/home/arvindsk/xgmix_expts/benchmark_data/val/chm20/ukb/five/generated_data/chm20/lgb_xgb_bal_admix.benchmark\n",
      "/home/arvindsk/xgmix_expts/benchmark_data/val/chm20/ukb/five/generated_data/chm20/lgb_crf_unbal_unbal.benchmark\n",
      "/home/arvindsk/xgmix_expts/benchmark_data/val/chm20/ukb/five/generated_data/chm20/lgb_crf_bal_admix.benchmark\n",
      "/home/arvindsk/xgmix_expts/benchmark_data/val/chm20/ukb/five/generated_data/chm20/lgb_cnv_unbal_unbal.benchmark\n",
      "/home/arvindsk/xgmix_expts/benchmark_data/val/chm20/ukb/five/generated_data/chm20/lgb_cnv_bal_admix.benchmark\n",
      "/home/arvindsk/xgmix_expts/benchmark_data/val/chm20/ukb/five/generated_data/chm20/xgb_xgb_unbal_unbal.benchmark\n",
      "/home/arvindsk/xgmix_expts/benchmark_data/val/chm20/ukb/five/generated_data/chm20/xgb_xgb_bal_admix.benchmark\n",
      "/home/arvindsk/xgmix_expts/benchmark_data/val/chm20/ukb/five/generated_data/chm20/xgb_crf_unbal_unbal.benchmark\n",
      "/home/arvindsk/xgmix_expts/benchmark_data/val/chm20/ukb/five/generated_data/chm20/xgb_crf_bal_admix.benchmark\n",
      "/home/arvindsk/xgmix_expts/benchmark_data/val/chm20/ukb/five/generated_data/chm20/xgb_cnv_unbal_unbal.benchmark\n",
      "/home/arvindsk/xgmix_expts/benchmark_data/val/chm20/ukb/five/generated_data/chm20/xgb_cnv_bal_admix.benchmark\n",
      "/home/arvindsk/xgmix_expts/benchmark_data/val/chm20/ukb/five/generated_data/chm20/logreg_xgb_unbal_unbal.benchmark\n",
      "/home/arvindsk/xgmix_expts/benchmark_data/val/chm20/ukb/five/generated_data/chm20/logreg_xgb_bal_admix.benchmark\n",
      "/home/arvindsk/xgmix_expts/benchmark_data/val/chm20/ukb/five/generated_data/chm20/logreg_crf_unbal_unbal.benchmark\n",
      "/home/arvindsk/xgmix_expts/benchmark_data/val/chm20/ukb/five/generated_data/chm20/logreg_crf_bal_admix.benchmark\n",
      "/home/arvindsk/xgmix_expts/benchmark_data/val/chm20/ukb/five/generated_data/chm20/logreg_cnv_unbal_unbal.benchmark\n",
      "/home/arvindsk/xgmix_expts/benchmark_data/val/chm20/ukb/five/generated_data/chm20/logreg_cnv_bal_admix.benchmark\n",
      "/home/arvindsk/xgmix_expts/benchmark_data/val/chm20/ukb/seven/generated_data/chm20/lgb_xgb_unbal_unbal.benchmark\n",
      "/home/arvindsk/xgmix_expts/benchmark_data/val/chm20/ukb/seven/generated_data/chm20/lgb_xgb_bal_admix.benchmark\n",
      "/home/arvindsk/xgmix_expts/benchmark_data/val/chm20/ukb/seven/generated_data/chm20/lgb_crf_unbal_unbal.benchmark\n",
      "/home/arvindsk/xgmix_expts/benchmark_data/val/chm20/ukb/seven/generated_data/chm20/lgb_crf_bal_admix.benchmark\n",
      "/home/arvindsk/xgmix_expts/benchmark_data/val/chm20/ukb/seven/generated_data/chm20/lgb_cnv_unbal_unbal.benchmark\n",
      "/home/arvindsk/xgmix_expts/benchmark_data/val/chm20/ukb/seven/generated_data/chm20/lgb_cnv_bal_admix.benchmark\n",
      "/home/arvindsk/xgmix_expts/benchmark_data/val/chm20/ukb/seven/generated_data/chm20/xgb_xgb_unbal_unbal.benchmark\n",
      "/home/arvindsk/xgmix_expts/benchmark_data/val/chm20/ukb/seven/generated_data/chm20/xgb_xgb_bal_admix.benchmark\n",
      "/home/arvindsk/xgmix_expts/benchmark_data/val/chm20/ukb/seven/generated_data/chm20/xgb_crf_unbal_unbal.benchmark\n",
      "/home/arvindsk/xgmix_expts/benchmark_data/val/chm20/ukb/seven/generated_data/chm20/xgb_crf_bal_admix.benchmark\n",
      "/home/arvindsk/xgmix_expts/benchmark_data/val/chm20/ukb/seven/generated_data/chm20/xgb_cnv_unbal_unbal.benchmark\n",
      "/home/arvindsk/xgmix_expts/benchmark_data/val/chm20/ukb/seven/generated_data/chm20/xgb_cnv_bal_admix.benchmark\n",
      "/home/arvindsk/xgmix_expts/benchmark_data/val/chm20/ukb/seven/generated_data/chm20/logreg_xgb_unbal_unbal.benchmark\n",
      "/home/arvindsk/xgmix_expts/benchmark_data/val/chm20/ukb/seven/generated_data/chm20/logreg_xgb_bal_admix.benchmark\n",
      "/home/arvindsk/xgmix_expts/benchmark_data/val/chm20/ukb/seven/generated_data/chm20/logreg_crf_unbal_unbal.benchmark\n",
      "/home/arvindsk/xgmix_expts/benchmark_data/val/chm20/ukb/seven/generated_data/chm20/logreg_crf_bal_admix.benchmark\n",
      "/home/arvindsk/xgmix_expts/benchmark_data/val/chm20/ukb/seven/generated_data/chm20/logreg_cnv_unbal_unbal.benchmark\n",
      "/home/arvindsk/xgmix_expts/benchmark_data/val/chm20/ukb/seven/generated_data/chm20/logreg_cnv_bal_admix.benchmark\n"
     ]
    }
   ],
   "source": [
    "for set_name in [\"full\",\"ukb\"]:\n",
    "    for pop_name in [\"latino\",\"five\",\"seven\"]:\n",
    "        data_path = datasets_benchmark.format(chm,set_name,pop_name)\n",
    "        for base in [\"lgb\", \"xgb\", \"logreg\"]:\n",
    "            for smooth in [\"xgb\", \"crf\", \"cnv\"]:\n",
    "                for bal in [\"unbal_unbal\",\"bal_admix\"]:\n",
    "                    metric_path = os.path.join(metrics_benchmark.format(chm,set_name,pop_name),\"{}_{}_{}.benchmark\".format(base,smooth,bal))\n",
    "                    print(metric_path)\n",
    "                    "
   ]
  },
  {
   "cell_type": "code",
   "execution_count": null,
   "metadata": {},
   "outputs": [],
   "source": [
    "def run_bm(base, smooth, chm, gen_expts, models_exist=False, local_metric=None):\n",
    "\n",
    "    for data_path in datasets_benchmark:\n",
    "\n",
    "        # data_path must end with generated_data\n",
    "        data_path = data_path + \"generated_data/\"\n",
    "\n",
    "        for gen_name in gen_expts:\n",
    "\n",
    "            bm_root = data_path + \"chm{}/{}/\".format(chm,gen_name)\n",
    "            snp, bal, dat = np.array(bm_root.split(\"/\"))[-7:-4]\n",
    "            \n",
    "            if snp == \"full\":\n",
    "                W = 1000\n",
    "            elif snp== \"ukb\":\n",
    "                W = 30\n",
    "            \n",
    "            metric_path = bm_root + \"benchmark_results.pkl\"\n",
    "            if local_metric is not None:\n",
    "                metric_path = metric_path.replace(\"arvindsk\", local_metric)\n",
    "\n",
    "            gens = gen_expts[gen_name]\n",
    "\n",
    "            print(\"-\"*100)\n",
    "            print(\"Experiment details\")\n",
    "            print(\"Dataset used: {}\".format(data_path))\n",
    "            print(\"Generations used: {}\".format(gens))\n",
    "            print(\"Metrics will come up at: {}\".format(metric_path))\n",
    "\n",
    "            metrics = bm_train(base, smooth, \n",
    "                               bm_root, data_path, \n",
    "                               gens, chm=chm,\n",
    "                               W=W, \n",
    "                               load_base=True, load_smooth=True, \n",
    "                               eval=False,\n",
    "                               models_exist=models_exist,\n",
    "                               verbose=True)\n",
    "\n",
    "            save_dict(metrics, metric_path)\n",
    "            "
   ]
  },
  {
   "cell_type": "code",
   "execution_count": null,
   "metadata": {
    "scrolled": true
   },
   "outputs": [],
   "source": [
    "base = [\"lgb\", \"xgb\", \"logreg\"]\n",
    "smooth = [\"xgb\", \"crf\", \"cnv\"]\n",
    "\n",
    "# here we run 3 base, 3 smooth, 2 datasets, 3 populations, 2 balance\n",
    "\n",
    "chm = 20\n",
    "gen_expts = {\n",
    "    \"all\" : [0,2,4,8,16,24,32,48,64,72,100]\n",
    "}\n",
    "run_bm(base, smooth, chm, gen_expts, models_exist=False, local_metric=\"arvindsk\")"
   ]
  },
  {
   "cell_type": "code",
   "execution_count": null,
   "metadata": {
    "scrolled": true
   },
   "outputs": [],
   "source": [
    "base = [\"rf\",\"lgb\", \"xgb\", \"logreg\"]\n",
    "smooth = [\"xgb\", \"crf\", \"cnv\"]\n",
    "for gen_name in gen_expts:\n",
    "    for data_path in datasets_benchmark:\n",
    "        bm_root = data_path + \"generated_data/chm{}/{}/\".format(chm,gen_name)\n",
    "        print(bm_root)\n",
    "        metric_path = bm_root + \"benchmark_results.pkl\"\n",
    "        M = load_dict(metric_path)\n",
    "        accs = plt_metric(base ,smooth, M, \"val_acc\")"
   ]
  },
  {
   "cell_type": "code",
   "execution_count": null,
   "metadata": {},
   "outputs": [],
   "source": [
    "import seaborn as sns; \n",
    "import matplotlib as mpl\n",
    "mpl.rcParams.update(mpl.rcParamsDefault)\n",
    "\n",
    "def get_metric(base,smooth,Metrics,metric):\n",
    "    M = {}\n",
    "    for i, b in enumerate(base):\n",
    "        M[b] = {}\n",
    "        for j, s in enumerate(smooth):\n",
    "            M[b][s] = Metrics[b+\"_\"+s][metric]\n",
    "            \n",
    "    return pd.DataFrame(M)\n",
    "\n",
    "\n",
    "def plt_metric(base,smooth,Metrics,metric,vminmax=(None,None),cbar=True):\n",
    "    \n",
    "    if metric == \"gen_performance\":\n",
    "        cmap = { 0:'k', 1:'b',  2:'y', 3:'g'}\n",
    "        lmap = { 0:'-', 1:'--', 2:':', 3:'-.' }\n",
    "        v_accs = get_metric(base, smooth, Metrics, \"val_acc\")\n",
    "        for i, b in enumerate(base):\n",
    "            for j, s in enumerate(smooth):\n",
    "                m_name = b + \"_\" + s\n",
    "                data = Metrics[m_name][metric] \n",
    "                plt.plot(data[\"gens\"], data[\"accs\"], linestyle=lmap[i%len(lmap)], color=cmap[j%len(cmap)],\n",
    "                         label= m_name + \" (\" + str(v_accs[b][j]) + \"%)\")\n",
    "\n",
    "        plt.legend(bbox_to_anchor=(1, 1), loc='upper left') \n",
    "        plt.xlabel(\"Generation\")\n",
    "        plt.ylabel(\"Accuracy (%)\")\n",
    "        plt.show()\n",
    "\n",
    "    else:\n",
    "        data = get_metric(base,smooth,Metrics,metric)\n",
    "        sns.heatmap(data, annot=True, fmt=\".2f\",vmin=vminmax[0], vmax=vminmax[1], cbar=cbar)\n",
    "        plt.xlabel(\"base model\")\n",
    "        plt.ylabel(\"smoother\")\n",
    "        plt.show()\n",
    "        \n",
    "    return data"
   ]
  },
  {
   "cell_type": "code",
   "execution_count": null,
   "metadata": {},
   "outputs": [],
   "source": [
    "base = [\"rf\", \"lgb\", \"xgb\", \"logreg\"]\n",
    "smooth = [\"cnv\", \"xgb\", \"crf\"]\n",
    "\n",
    "cols = [\"base\", \"smooth\",\"data\",\"gen\",\"bal\",\"snp\",\"val_acc\"]\n",
    "ACC = [] # (b, s, data, gen, bal, ukb, acc)\n",
    "all_accs = np.zeros( (len(base), len(smooth), len(gen_expts), len(datasets_benchmark)) )\n",
    "for g, gen_name in enumerate(gen_expts):\n",
    "    for d, data_path in enumerate(datasets_benchmark):\n",
    "        bm_root = data_path + \"generated_data/chm{}/{}/\".format(chm,gen_name)\n",
    "        metric_path = bm_root + \"benchmark_results.pkl\"\n",
    "        M = load_dict(metric_path)\n",
    "        \n",
    "        v_accs = get_metric(base, smooth, M, \"val_acc\")\n",
    "        \n",
    "        dat = np.array(bm_root.split(\"/\"))[-5]\n",
    "        bal = np.array(bm_root.split(\"/\"))[-6]\n",
    "        ukb = np.array(bm_root.split(\"/\"))[-7]\n",
    "        for b in base:\n",
    "            for s in smooth:\n",
    "                ACC += [(b,s,dat,gen_name,bal,ukb,v_accs[b][s])]\n",
    "DF = pd.DataFrame(ACC, columns=cols)\n",
    "DF"
   ]
  },
  {
   "cell_type": "markdown",
   "metadata": {},
   "source": [
    "## (LogReg) X (XGB, CRF) performing best"
   ]
  },
  {
   "cell_type": "code",
   "execution_count": null,
   "metadata": {},
   "outputs": [],
   "source": [
    "DF.boxplot(column=[\"val_acc\"], by=[\"snp\",\"base\", \"smooth\"], figsize=(16,8), rot=\"45\")\n",
    "plt.show()"
   ]
  },
  {
   "cell_type": "code",
   "execution_count": null,
   "metadata": {},
   "outputs": [],
   "source": [
    "DF.boxplot(column=[\"val_acc\"], by=[\"snp\", \"base\", \"smooth\"], figsize=(16,8), rot=\"45\")\n",
    "plt.show()"
   ]
  },
  {
   "cell_type": "markdown",
   "metadata": {},
   "source": [
    "## Closer look"
   ]
  },
  {
   "cell_type": "code",
   "execution_count": null,
   "metadata": {},
   "outputs": [],
   "source": [
    "DF_best_models = DF[ \n",
    "    ~(DF.base.isin([\"rf\", \"lgb\"])) &\n",
    "    (DF.smooth != \"cnv\")\n",
    "]\n",
    "DF_best_models.boxplot(column=[\"val_acc\"], by=[\"base\", \"smooth\"], figsize=(16,8), rot=\"45\")\n",
    "plt.show()"
   ]
  },
  {
   "cell_type": "markdown",
   "metadata": {},
   "source": [
    "## Balance not affacting much but still a bit\n",
    "we want to repeat with fixed validation set"
   ]
  },
  {
   "cell_type": "code",
   "execution_count": null,
   "metadata": {},
   "outputs": [],
   "source": [
    "DF.boxplot(column=[\"val_acc\"], by=[\"data\", \"bal\"], figsize=(16,8), rot=45)\n",
    "plt.show()"
   ]
  },
  {
   "cell_type": "markdown",
   "metadata": {},
   "source": [
    "## same pattern using only best models"
   ]
  },
  {
   "cell_type": "code",
   "execution_count": null,
   "metadata": {},
   "outputs": [],
   "source": [
    "DF_best_models.boxplot(column=[\"val_acc\"], by=[\"data\", \"bal\"], figsize=(16,8), rot=45)\n",
    "plt.show()"
   ]
  },
  {
   "cell_type": "markdown",
   "metadata": {},
   "source": [
    "## Accuracies similar for high generations"
   ]
  },
  {
   "cell_type": "code",
   "execution_count": null,
   "metadata": {},
   "outputs": [],
   "source": [
    "DF_lathi = DF[ \n",
    "    (DF.base != \"rf\") &\n",
    "    (DF.smooth != \"cnv\") &\n",
    "    (DF.gen==\"high\") ]\n",
    "DF_lathi.boxplot(column=[\"val_acc\"], by=[\"data\", \"snp\", \"smooth\"], figsize=(16,8), rot=45)\n",
    "plt.show()"
   ]
  },
  {
   "cell_type": "code",
   "execution_count": null,
   "metadata": {},
   "outputs": [],
   "source": [
    "data_path = \"/home/arvindsk/xgmix_expts/benchmark_data/ukb/unbal_unbal/five/\"\n",
    "base = [\"xgb\", \"logreg\"]\n",
    "smooth = [\"xgb\", \"crf\"]\n",
    "gen_name = \"high\"\n",
    "bm_root = data_path + \"generated_data/chm{}/{}/\".format(chm,gen_name)\n",
    "metric_path = bm_root + \"benchmark_results.pkl\"\n",
    "M = load_dict(metric_path)\n",
    "out = plt_metric(base ,smooth, M, \"gen_performance\")"
   ]
  },
  {
   "cell_type": "markdown",
   "metadata": {},
   "source": [
    "## Note! acc > 90% for gen 100"
   ]
  }
 ],
 "metadata": {
  "kernelspec": {
   "display_name": "Python 3",
   "language": "python",
   "name": "python3"
  },
  "language_info": {
   "codemirror_mode": {
    "name": "ipython",
    "version": 3
   },
   "file_extension": ".py",
   "mimetype": "text/x-python",
   "name": "python",
   "nbconvert_exporter": "python",
   "pygments_lexer": "ipython3",
   "version": "3.7.6"
  }
 },
 "nbformat": 4,
 "nbformat_minor": 2
}
